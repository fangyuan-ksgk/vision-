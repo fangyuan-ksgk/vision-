{
 "cells": [
  {
   "cell_type": "code",
   "execution_count": 3,
   "metadata": {},
   "outputs": [],
   "source": [
    "import torch\n",
    "import torch.nn as nn\n",
    "from multimodal_encoder.builder import build_vision_tower\n",
    "# from multimodal_resampler.builder import build_vision_resampler\n",
    "# from multimodal_projector.builder import build_vision_projector\n",
    "\n",
    "# build_vision_tower()"
   ]
  },
  {
   "cell_type": "code",
   "execution_count": 4,
   "metadata": {},
   "outputs": [],
   "source": [
    "# Initialize CLIPVisionTower\n",
    "vision_tower_name = \"openai/clip-vit-base-patch32\"\n",
    "args = type('Args', (), {\n",
    "    'mm_vision_select_layer': -2,  # Typically the second to last layer\n",
    "    'mm_vision_select_feature': \"patch\"\n",
    "})()\n",
    "\n",
    "# clip_vision_tower = CLIPVisionTower(vision_tower_name, args)"
   ]
  },
  {
   "cell_type": "code",
   "execution_count": 3,
   "metadata": {},
   "outputs": [
    {
     "name": "stdout",
     "output_type": "stream",
     "text": [
      "Loading vision tower: openai/clip-vit-base-patch32\n"
     ]
    }
   ],
   "source": [
    "from config import ModelArguments\n",
    "# Initialize ModelArguments with default values\n",
    "config = ModelArguments()\n",
    "\n",
    "# You can also customize specific arguments if needed\n",
    "# For example:\n",
    "# config = ModelArguments(\n",
    "#     model_name_or_path=\"facebook/opt-350m\",\n",
    "#     vision_tower=\"openai/clip-vit-large-patch14\",\n",
    "#     freeze_backbone=True\n",
    "# )\n",
    "from multimodal_encoder.builder import build_vision_tower\n",
    "from multimodal_resampler.builder import build_vision_resampler\n",
    "from multimodal_projector.builder import build_vision_projector\n",
    "\n",
    "\n",
    "vision_tower = build_vision_tower(config)\n",
    "vision_resampler = build_vision_resampler(config)\n",
    "vision_projector = build_vision_projector(config)"
   ]
  },
  {
   "cell_type": "code",
   "execution_count": null,
   "metadata": {},
   "outputs": [],
   "source": []
  }
 ],
 "metadata": {
  "kernelspec": {
   "display_name": "base",
   "language": "python",
   "name": "python3"
  },
  "language_info": {
   "codemirror_mode": {
    "name": "ipython",
    "version": 3
   },
   "file_extension": ".py",
   "mimetype": "text/x-python",
   "name": "python",
   "nbconvert_exporter": "python",
   "pygments_lexer": "ipython3",
   "version": "3.11.5"
  }
 },
 "nbformat": 4,
 "nbformat_minor": 2
}
