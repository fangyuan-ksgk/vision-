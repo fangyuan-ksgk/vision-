{
 "cells": [
  {
   "cell_type": "code",
   "execution_count": 1,
   "metadata": {},
   "outputs": [
    {
     "name": "stdout",
     "output_type": "stream",
     "text": [
      "On MacOS, decord package is not compatible with new python version.\n",
      "Loading vision tower: openai/clip-vit-base-patch32\n"
     ]
    },
    {
     "name": "stderr",
     "output_type": "stream",
     "text": [
      "/opt/homebrew/anaconda3/lib/python3.11/site-packages/torch/_utils.py:831: UserWarning: TypedStorage is deprecated. It will be removed in the future and UntypedStorage will be the only storage class. This should only matter to you if you are using storages directly.  To access UntypedStorage directly, use tensor.untyped_storage() instead of tensor.storage()\n",
      "  return self.fget.__get__(instance, owner)()\n"
     ]
    }
   ],
   "source": [
    "# Model Arguments \n",
    "from config import ModelArguments\n",
    "\n",
    "config = ModelArguments()\n",
    "\n",
    "# Multimodal Encoder, Resampler, Projector\n",
    "from multimodal_encoder.builder import build_vision_tower\n",
    "from multimodal_resampler.builder import build_vision_resampler\n",
    "from multimodal_projector.builder import build_vision_projector\n",
    "\n",
    "vision_tower = build_vision_tower(config)\n",
    "vision_resampler = build_vision_resampler(config)\n",
    "vision_projector = build_vision_projector(config)\n",
    "\n",
    "# Llava Model :: inherit from transformers.PreTrainedModel class unique initialization with config\n",
    "# from llava_llama import LlavaConfig, LlavaLlamaModel\n",
    "\n",
    "# llava_config = LlavaConfig()\n",
    "# llava_llama_model = LlavaLlamaModel(llava_config) # took around 2 min to initialize already (time to move to RunPod?)"
   ]
  },
  {
   "cell_type": "code",
   "execution_count": 2,
   "metadata": {},
   "outputs": [],
   "source": [
    "# from llava_llama import LlavaLlamaForCausalLM\n",
    "\n",
    "# LlavaLlamaForCausalLM(llava_config)"
   ]
  },
  {
   "cell_type": "code",
   "execution_count": null,
   "metadata": {},
   "outputs": [],
   "source": [
    "from language_model.llava_llama import LlavaLlamaForCausalLM # Register the llava models into 'transformers'\n",
    "# from llava_arch import LlavaMetaModel\n",
    "from transformers import AutoConfig\n",
    "from transformers import AutoModelForCausalLM\n",
    "\n",
    "config = AutoConfig.for_model(\"llava_llama\", trust_remote_code=True)\n",
    "model = AutoModelForCausalLM.from_config(config, trust_remote_code=True)"
   ]
  },
  {
   "cell_type": "code",
   "execution_count": 3,
   "metadata": {},
   "outputs": [],
   "source": [
    "import av\n",
    "container = av.open(\"vid.mp4\")\n",
    "for frame in container.decode(video=0):\n",
    "    img_pil = frame.to_image()\n",
    "    break"
   ]
  },
  {
   "cell_type": "code",
   "execution_count": 2,
   "metadata": {},
   "outputs": [
    {
     "name": "stderr",
     "output_type": "stream",
     "text": [
      "Special tokens have been added in the vocabulary, make sure the associated word embeddings are fine-tuned or trained.\n"
     ]
    }
   ],
   "source": [
    "from dataprocess import LazySupervisedDataset\n",
    "from transformers import AutoTokenizer\n",
    "from config import DataArguments \n",
    "\n",
    "data_args = DataArguments(\n",
    "    data_path = \"data/mock.json\",\n",
    "    image_folder = \"data/\",\n",
    "    video_folder = \"data/\",\n",
    "    video_fps = 1,\n",
    "    frames_upbound = 0,\n",
    "    add_time_instruction = False,\n",
    "    force_sample = False,\n",
    "    default_fps = 10\n",
    ")\n",
    "\n",
    "tokenizer = AutoTokenizer.from_pretrained(\"meta-llama/Meta-Llama-3-8B-Instruct\")\n",
    "dataset = LazySupervisedDataset(data_args=data_args, tokenizer=tokenizer, image_processor=vision_tower.image_processor)"
   ]
  },
  {
   "cell_type": "code",
   "execution_count": 3,
   "metadata": {},
   "outputs": [],
   "source": [
    "source = dataset.data[0]\n"
   ]
  },
  {
   "cell_type": "code",
   "execution_count": 3,
   "metadata": {},
   "outputs": [
    {
     "name": "stdout",
     "output_type": "stream",
     "text": [
      "Line 69: mask_seq - <|begin_of_text|><|start_header_id|>assistant<|end_header_id|>\n",
      "\n",
      "\n",
      "Line 70: target_seq - The image shows a beautiful sunset over a beach. The sky is painted with vibrant orange and pink hues, reflecting off the calm ocean water. In the foreground, there's a silhouette of a palm tree, adding a tropical feel to the scene.<|eot_id|>\n",
      "Line 69: mask_seq - <|begin_of_text|><|start_header_id|>assistant<|end_header_id|>\n",
      "\n",
      "\n",
      "Line 70: target_seq - The video shows a busy city street during rush hour. There are numerous cars and buses moving slowly through traffic. Pedestrians are crossing at crosswalks and walking on sidewalks. The scene is typical of a bustling urban environment during a weekday morning or evening.<|eot_id|>\n"
     ]
    },
    {
     "data": {
      "text/plain": [
       "{'input_ids': tensor([128000, 128006,   9125, 128007,    271,   2675,    527,    264,  11190,\n",
       "           4221,    323,  11376,  18328,     13,   1472,    527,   3025,    311,\n",
       "           3619,    279,   9302,   2262,    430,    279,   1217,   5825,     11,\n",
       "            323,   7945,    279,   1217,    449,    264,   8205,    315,   9256,\n",
       "           1701,   5933,   4221,     13, 128009, 128006,    882, 128007,    271,\n",
       "           -200,    198,   3923,    649,    499,   1518,    304,    420,   2217,\n",
       "             30, 128009, 128000, 128006,  78191, 128007,    271, 128000,    791,\n",
       "           2217,   5039,    264,   6366,  44084,    927,    264,  11573,     13,\n",
       "            578,  13180,    374,  24937,    449,  34076,  19087,    323,  18718,\n",
       "          82757,     11,  42852,   1022,    279,  19858,  18435,   3090,     13,\n",
       "            763,    279,  40405,     11,   1070,    596,    264,  57827,    315,\n",
       "            264,  33552,   5021,     11,   7999,    264,  35148,   2733,    311,\n",
       "            279,   6237,     13, 128009, 128006,    882, 128007,    271,   -200,\n",
       "            198,  75885,   1148,    596,  12765,    304,    420,   2835,     13,\n",
       "         128009, 128000, 128006,  78191, 128007,    271, 128000,    791,   2835,\n",
       "           5039,    264,  13326,   3363,   8761,   2391,  13270,   6596,     13,\n",
       "           2684,    527,  12387,   9515,    323,  34480,   7366,  14297,   1555,\n",
       "           9629,     13,  19878,    478,  36268,    527,  27736,    520,   5425,\n",
       "          19599,     82,    323,  11689,    389,  82835,     13,    578,   6237,\n",
       "            374,  14595,    315,    264,  90256,  16036,   4676,   2391,    264,\n",
       "          47678,   6693,    477,  11714,     13, 128009]),\n",
       " 'labels': tensor([128000, 128006,   -100, 128007,   -100,   -100,   -100,   -100,   -100,\n",
       "           -100,   -100,   -100,   -100,   -100,   -100,   -100,   -100,   -100,\n",
       "           -100,   -100,   -100,   -100,   -100,   -100,   -100,   -100,   -100,\n",
       "           -100,   -100,   -100,   -100,   -100,   -100,   -100,   -100,   -100,\n",
       "           -100,   -100,   -100,   -100, 128009, 128006,   -100, 128007,   -100,\n",
       "           -100,   -100,   -100,   -100,   -100,   -100,   -100,   -100,   -100,\n",
       "           -100, 128009, 128000, 128006,   -100, 128007,   -100, 128000,    791,\n",
       "           2217,   5039,    264,   6366,  44084,    927,    264,  11573,     13,\n",
       "            578,  13180,    374,  24937,    449,  34076,  19087,    323,  18718,\n",
       "          82757,     11,  42852,   1022,    279,  19858,  18435,   3090,     13,\n",
       "            763,    279,  40405,     11,   1070,    596,    264,  57827,    315,\n",
       "            264,  33552,   5021,     11,   7999,    264,  35148,   2733,    311,\n",
       "            279,   6237,     13, 128009, 128006,   -100, 128007,   -100,   -100,\n",
       "           -100,   -100,   -100,   -100,   -100,   -100,   -100,   -100,   -100,\n",
       "         128009, 128000, 128006,   -100, 128007,   -100, 128000,    791,   2835,\n",
       "           5039,    264,  13326,   3363,   8761,   2391,  13270,   6596,     13,\n",
       "           2684,    527,  12387,   9515,    323,  34480,   7366,  14297,   1555,\n",
       "           9629,     13,  19878,    478,  36268,    527,  27736,    520,   5425,\n",
       "          19599,     82,    323,  11689,    389,  82835,     13,    578,   6237,\n",
       "            374,  14595,    315,    264,  90256,  16036,   4676,   2391,    264,\n",
       "          47678,   6693,    477,  11714,     13, 128009]),\n",
       " 'image': [(tensor([[[-1.0623, -1.2521, -1.4127,  ..., -0.3178, -0.3032, -0.3178],\n",
       "            [-1.0623, -1.2083, -1.3543,  ..., -0.6390, -0.6244, -0.5368],\n",
       "            [-1.0623, -1.1645, -1.2813,  ..., -0.5514, -0.6390, -0.7412],\n",
       "            ...,\n",
       "            [ 1.2150,  1.2150,  1.2442,  ..., -1.0623, -0.9018, -0.7120],\n",
       "            [ 1.2150,  1.2296,  1.2296,  ..., -1.1353, -1.0039, -0.8580],\n",
       "            [ 1.2442,  1.2296,  1.2150,  ..., -1.1353, -1.0331, -0.9018]],\n",
       "   \n",
       "           [[-0.8666, -1.0617, -1.2268,  ..., -0.3864, -0.3864, -0.4164],\n",
       "            [-0.8666, -1.0167, -1.1668,  ..., -0.6715, -0.6715, -0.6115],\n",
       "            [-0.8516, -0.9717, -1.0918,  ..., -0.5815, -0.6715, -0.7766],\n",
       "            ...,\n",
       "            [ 1.2194,  1.2194,  1.2495,  ..., -1.0617, -0.9117, -0.7616],\n",
       "            [ 1.2194,  1.2344,  1.2344,  ..., -1.1368, -1.0167, -0.9117],\n",
       "            [ 1.2344,  1.2194,  1.2044,  ..., -1.1368, -1.0467, -0.9717]],\n",
       "   \n",
       "           [[-1.0821, -1.2385, -1.3665,  ..., -0.3568, -0.3568, -0.3853],\n",
       "            [-1.0821, -1.1958, -1.3238,  ..., -0.5986, -0.5986, -0.5133],\n",
       "            [-1.1105, -1.1958, -1.2954,  ..., -0.4706, -0.5559, -0.6555],\n",
       "            ...,\n",
       "            [ 1.1789,  1.1789,  1.2074,  ..., -0.8688, -0.7266, -0.5701],\n",
       "            [ 1.1932,  1.1932,  1.2074,  ..., -0.9114, -0.7977, -0.7123],\n",
       "            [ 1.2216,  1.2074,  1.1932,  ..., -0.9399, -0.8261, -0.7550]]]),\n",
       "   <function Tensor.size>,\n",
       "   'image'),\n",
       "  (tensor([[[[-1.3251, -1.0039, -0.7996,  ..., -0.3178, -0.2886, -0.3178],\n",
       "             [-1.3689, -1.1061, -1.0039,  ..., -0.6682, -0.6390, -0.5952],\n",
       "             [-1.4857, -1.2813, -1.2375,  ..., -0.7412, -0.7850, -0.7704],\n",
       "             ...,\n",
       "             [ 1.2588,  1.2588,  1.2588,  ..., -0.5952, -0.5368, -0.5806],\n",
       "             [ 1.2734,  1.2588,  1.2588,  ..., -0.8726, -0.7558, -0.6828],\n",
       "             [ 1.2588,  1.2296,  1.2150,  ..., -1.0623, -0.9748, -0.9018]],\n",
       "   \n",
       "            [[-1.0918, -0.7616, -0.5515,  ..., -0.4764, -0.4464, -0.4764],\n",
       "             [-1.1218, -0.8516, -0.7466,  ..., -0.6565, -0.6415, -0.5965],\n",
       "             [-1.2568, -1.0467, -0.9867,  ..., -0.6865, -0.7316, -0.7166],\n",
       "             ...,\n",
       "             [ 1.2795,  1.2795,  1.2795,  ..., -0.6415, -0.6115, -0.6415],\n",
       "             [ 1.2945,  1.2795,  1.2795,  ..., -0.9267, -0.7916, -0.7166],\n",
       "             [ 1.2795,  1.2495,  1.2344,  ..., -1.0918, -1.0017, -0.9267]],\n",
       "   \n",
       "            [[-1.3665, -1.0821, -0.9825,  ..., -0.3426, -0.3284, -0.3568],\n",
       "             [-1.3665, -1.1389, -1.0963,  ..., -0.5559, -0.5417, -0.4990],\n",
       "             [-1.3949, -1.2385, -1.2669,  ..., -0.6128, -0.6412, -0.6270],\n",
       "             ...,\n",
       "             [ 1.2358,  1.2358,  1.2500,  ..., -0.4848, -0.4990, -0.5417],\n",
       "             [ 1.2643,  1.2500,  1.2358,  ..., -0.7123, -0.6555, -0.5986],\n",
       "             [ 1.2500,  1.2216,  1.2074,  ..., -0.8688, -0.8403, -0.7550]]],\n",
       "   \n",
       "   \n",
       "           [[[-1.4565, -1.5003, -1.5441,  ..., -0.2740, -0.2740, -0.2448],\n",
       "             [-1.5149, -1.5587, -1.6025,  ..., -0.5222, -0.4784, -0.4200],\n",
       "             [-1.5295, -1.5733, -1.6463,  ..., -0.8142, -0.8142, -0.7558],\n",
       "             ...,\n",
       "             [ 1.4486,  1.4632,  1.4778,  ..., -0.7850, -0.7996, -0.8142],\n",
       "             [ 1.4486,  1.4632,  1.4778,  ..., -0.8872, -0.8872, -0.8872],\n",
       "             [ 1.4486,  1.4632,  1.4778,  ..., -0.9748, -0.9456, -0.9310]],\n",
       "   \n",
       "            [[-1.2568, -1.2869, -1.3319,  ..., -0.5065, -0.5065, -0.4764],\n",
       "             [-1.3019, -1.3469, -1.3919,  ..., -0.5515, -0.5065, -0.4464],\n",
       "             [-1.3169, -1.3769, -1.4369,  ..., -0.7766, -0.7616, -0.7016],\n",
       "             ...,\n",
       "             [ 1.5046,  1.5196,  1.5346,  ..., -0.9567, -0.9867, -1.0017],\n",
       "             [ 1.5046,  1.5196,  1.5346,  ..., -0.9567, -0.9567, -0.9567],\n",
       "             [ 1.5046,  1.5196,  1.5346,  ..., -0.9867, -0.9567, -0.9417]],\n",
       "   \n",
       "            [[-1.4518, -1.4518, -1.4518,  ..., -0.3853, -0.4279, -0.4279],\n",
       "             [-1.4660, -1.4660, -1.4802,  ..., -0.4564, -0.4279, -0.3995],\n",
       "             [-1.4518, -1.4660, -1.4802,  ..., -0.6839, -0.6697, -0.6270],\n",
       "             ...,\n",
       "             [ 1.4776,  1.4918,  1.5202,  ..., -0.8830, -0.8972, -0.9114],\n",
       "             [ 1.4776,  1.4918,  1.5202,  ..., -0.8403, -0.8545, -0.8545],\n",
       "             [ 1.4918,  1.5060,  1.5202,  ..., -0.8830, -0.8545, -0.8261]]],\n",
       "   \n",
       "   \n",
       "           [[[-1.5003, -1.4273, -1.2229,  ..., -0.1718, -0.1718, -0.2156],\n",
       "             [-1.4127, -1.2959, -1.0039,  ..., -0.3470, -0.3032, -0.3032],\n",
       "             [-1.4127, -1.2959, -0.9456,  ..., -0.7266, -0.6974, -0.6974],\n",
       "             ...,\n",
       "             [ 1.4340,  1.4486,  1.4632,  ..., -0.7850, -0.8142, -0.8142],\n",
       "             [ 1.4194,  1.4486,  1.4632,  ..., -0.8872, -0.8872, -0.8872],\n",
       "             [ 1.4340,  1.4632,  1.4778,  ..., -0.9456, -0.9310, -0.9310]],\n",
       "   \n",
       "            [[-1.1368, -1.0767, -0.8516,  ..., -0.4464, -0.4314, -0.4764],\n",
       "             [-1.0467, -0.9417, -0.6115,  ..., -0.4464, -0.4014, -0.4014],\n",
       "             [-1.0467, -0.9267, -0.5365,  ..., -0.7916, -0.7466, -0.7466],\n",
       "             ...,\n",
       "             [ 1.5046,  1.5196,  1.5346,  ..., -0.9717, -0.9867, -1.0017],\n",
       "             [ 1.4896,  1.5196,  1.5346,  ..., -0.9567, -0.9567, -0.9567],\n",
       "             [ 1.5046,  1.5196,  1.5346,  ..., -0.9567, -0.9417, -0.9417]],\n",
       "   \n",
       "            [[-1.4802, -1.4233, -1.3238,  ..., -0.3568, -0.3426, -0.3853],\n",
       "             [-1.4660, -1.3522, -1.1532,  ..., -0.3284, -0.2857, -0.2857],\n",
       "             [-1.4518, -1.3522, -1.1532,  ..., -0.6128, -0.5844, -0.5844],\n",
       "             ...,\n",
       "             [ 1.5060,  1.5344,  1.5629,  ..., -0.8972, -0.9114, -0.9114],\n",
       "             [ 1.5060,  1.5344,  1.5487,  ..., -0.8545, -0.8545, -0.8545],\n",
       "             [ 1.5202,  1.5487,  1.5629,  ..., -0.8545, -0.8403, -0.8403]]],\n",
       "   \n",
       "   \n",
       "           [[[-1.5879, -1.6025, -1.5879,  ..., -0.3616, -0.3324, -0.3324],\n",
       "             [-1.6317, -1.6317, -1.5879,  ..., -0.2156, -0.1864, -0.1718],\n",
       "             [-1.6317, -1.6171, -1.6171,  ..., -0.5222, -0.4054, -0.3032],\n",
       "             ...,\n",
       "             [ 1.2588,  1.2588,  1.2734,  ..., -0.8142, -0.7996, -0.7850],\n",
       "             [ 1.2734,  1.3026,  1.3318,  ..., -0.9164, -0.8726, -0.8726],\n",
       "             [ 1.3902,  1.4194,  1.4486,  ..., -1.1499, -1.1061, -1.0915]],\n",
       "   \n",
       "            [[-1.2718, -1.2718, -1.1968,  ..., -0.7616, -0.7466, -0.7766],\n",
       "             [-1.3169, -1.3169, -1.2418,  ..., -0.4614, -0.4464, -0.4464],\n",
       "             [-1.3319, -1.3169, -1.3169,  ..., -0.5515, -0.4764, -0.4014],\n",
       "             ...,\n",
       "             [ 1.2795,  1.3095,  1.3245,  ..., -0.9717, -0.9567, -0.9567],\n",
       "             [ 1.3245,  1.3695,  1.4145,  ..., -1.0167, -0.9717, -0.9567],\n",
       "             [ 1.4446,  1.4896,  1.5346,  ..., -1.1968, -1.1668, -1.1368]],\n",
       "   \n",
       "            [[-1.4802, -1.4802, -1.4802,  ..., -0.6697, -0.6555, -0.6697],\n",
       "             [-1.4802, -1.4802, -1.4802,  ..., -0.3426, -0.3284, -0.3142],\n",
       "             [-1.4802, -1.4660, -1.4802,  ..., -0.4422, -0.3568, -0.2715],\n",
       "             ...,\n",
       "             [ 1.2927,  1.3069,  1.3211,  ..., -0.8119, -0.8119, -0.8119],\n",
       "             [ 1.3211,  1.3496,  1.3922,  ..., -0.7977, -0.7692, -0.7692],\n",
       "             [ 1.4349,  1.4776,  1.4918,  ..., -0.9256, -0.8972, -0.8688]]]]),\n",
       "   903168,\n",
       "   'video')],\n",
       " 'id': 'nishino'}"
      ]
     },
     "execution_count": 3,
     "metadata": {},
     "output_type": "execute_result"
    }
   ],
   "source": [
    "dataset[0]"
   ]
  },
  {
   "cell_type": "code",
   "execution_count": null,
   "metadata": {},
   "outputs": [],
   "source": []
  },
  {
   "cell_type": "code",
   "execution_count": null,
   "metadata": {},
   "outputs": [],
   "source": []
  },
  {
   "cell_type": "code",
   "execution_count": null,
   "metadata": {},
   "outputs": [],
   "source": []
  },
  {
   "cell_type": "code",
   "execution_count": null,
   "metadata": {},
   "outputs": [],
   "source": []
  }
 ],
 "metadata": {
  "kernelspec": {
   "display_name": "base",
   "language": "python",
   "name": "python3"
  },
  "language_info": {
   "codemirror_mode": {
    "name": "ipython",
    "version": 3
   },
   "file_extension": ".py",
   "mimetype": "text/x-python",
   "name": "python",
   "nbconvert_exporter": "python",
   "pygments_lexer": "ipython3",
   "version": "3.11.5"
  }
 },
 "nbformat": 4,
 "nbformat_minor": 2
}
